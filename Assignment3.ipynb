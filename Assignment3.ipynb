{
 "cells": [
  {
   "cell_type": "markdown",
   "id": "cc6b7675-f3da-4980-8c56-ad8df3878abf",
   "metadata": {},
   "source": [
    "### Q1. Write program to check a person’s eligibility for a loan based on age, credit score, and income. This time, the eligibility criteria will be:\n",
    "\n",
    "The person must be 18 years or older. The person must have a credit score of 650 or higher. The person must have an\n",
    "annual income of at least 30000 dollars If the person has a credit score of 700 or higher, they may still be eligible with\n",
    "an income of 25000 dollars or more."
   ]
  },
  {
   "cell_type": "code",
   "execution_count": 70,
   "id": "aeb23f3d-f053-4f4a-bd7c-7b3ca21ffe75",
   "metadata": {},
   "outputs": [
    {
     "name": "stdout",
     "output_type": "stream",
     "text": [
      "Eligible For Loan\n"
     ]
    }
   ],
   "source": [
    "age = 18\n",
    "credit_score = 700\n",
    "annual_income = 28000\n",
    "\n",
    "if age >= 18 and credit_score >= 650 and annual_income >= 30000:\n",
    "    print(\"Eligible For Loan\")\n",
    "elif credit_score >=700 and annual_income >= 25000:\n",
    "        print(\"Eligible For Loan\")\n",
    "else:\n",
    " print (\"Not Eligible For Loan\")\n",
    "    "
   ]
  },
  {
   "cell_type": "markdown",
   "id": "166541fe-e1a0-4b1d-8f1b-bf90850e9c4d",
   "metadata": {},
   "source": [
    "### Q2. Write a Python program that checks if a person is an adult (age ≥ 18).\n",
    "\n",
    "Take the age as input.\n",
    "If the person is underage (age < 18), show message: \"You are underage\" and don't ask for experience.\n",
    "\n",
    "If the person is an adult, take years of experience as input and print:\n",
    "\"You have a lot of experience.\" (10+ years)\n",
    "\"You have moderate experience.\" (5-9 years)\n",
    "\"You are relatively new.\" (2-4 years)\n",
    "\"You are just starting out.\" (less than 2 years)"
   ]
  },
  {
   "cell_type": "code",
   "execution_count": 103,
   "id": "71abdd71-37c8-4c14-8d32-b67f9012c755",
   "metadata": {},
   "outputs": [
    {
     "name": "stdin",
     "output_type": "stream",
     "text": [
      "ENter Your Age : 25\n",
      "Enter Your Experience : 1\n"
     ]
    },
    {
     "name": "stdout",
     "output_type": "stream",
     "text": [
      "You are just starting out.\n"
     ]
    }
   ],
   "source": [
    "age = float(input(\"ENter Your Age :\"))\n",
    "\n",
    "if age < 18:\n",
    "    print(\"You are underage\")\n",
    "    \n",
    "elif age >= 18 :  # If the person is an adult\n",
    "    experience = float(input(\"Enter Your Experience :\"))\n",
    "    if experience >= 10 :\n",
    "        print(\"You have a lot of experience\")\n",
    "    elif experience < 10 and experience >= 5 :\n",
    "        print(\"You have moderate experience.\")\n",
    "    elif experience < 5 and experience >= 2 :\n",
    "        print(\"You are relatively new.\")\n",
    "    elif experience < 2 :\n",
    "        print(\"You are just starting out.\")"
   ]
  },
  {
   "cell_type": "markdown",
   "id": "6d4e0e8c-85c4-4dff-b6fe-c741b0cf0557",
   "metadata": {},
   "source": [
    "### Q3. Write a program to explore below variables\n",
    "\n",
    "##### a) Print their memory address (to check if python assigns same address of different variables having same element)\n",
    "##### b) Find memory size and append them in a list, use this list to find data type having least memory size\n",
    "##### c) Print final name of data type which has lowest memory\n",
    "Result will help a programmer to decide which variable is storing less memory and variable locations"
   ]
  },
  {
   "cell_type": "code",
   "execution_count": 69,
   "id": "f5a5260e-907b-49f3-aeed-f4d196254051",
   "metadata": {},
   "outputs": [
    {
     "name": "stdout",
     "output_type": "stream",
     "text": [
      "2479382437680\n",
      "2479382437680\n",
      "140709614471576\n",
      "140709614471576\n"
     ]
    }
   ],
   "source": [
    "### Q3. (a)\n",
    "\n",
    "a = \"Pakistan\"\n",
    "b = \"Pakistan\"\n",
    "\n",
    "c = 256\n",
    "d = 256\n",
    "\n",
    "## print memory adesses\n",
    "\n",
    "print(id(a))\n",
    "print(id(b))\n",
    "\n",
    "print(id(c))\n",
    "print(id(d))\n"
   ]
  },
  {
   "cell_type": "code",
   "execution_count": 26,
   "id": "0431b421-9433-4995-bdab-989791c8d9b5",
   "metadata": {},
   "outputs": [
    {
     "name": "stdout",
     "output_type": "stream",
     "text": [
      "create list to store memory size\n",
      "[28, 24, 54, 104, 28, 64]\n",
      "Find data type with the least memory\n",
      "Variable with the least memory size is Var_list = 104 bytes \n"
     ]
    }
   ],
   "source": [
    "### Q3. (b)\n",
    "\n",
    "import sys\n",
    "\n",
    "a = \"bytes\"\n",
    "\n",
    "var_int = 42\n",
    "var_float = 3.14\n",
    "var_str = \"Hello, World!\"\n",
    "var_list = [1, 2, 3, 4, 5]\n",
    "var_bool = True\n",
    "var_tuple = (1, 2, 3)\n",
    "\n",
    "int_bytes = sys.getsizeof(var_int)\n",
    "float_bytes = sys.getsizeof(var_float)\n",
    "str_bytes = sys.getsizeof(var_str)\n",
    "list_bytes = sys.getsizeof(var_list)\n",
    "bool_bytes  = sys.getsizeof(var_bool)\n",
    "tuple_bytes = sys.getsizeof(var_tuple)\n",
    "\n",
    "\n",
    "cr_list = [int_bytes,float_bytes,str_bytes,list_bytes,bool_bytes,tuple_bytes]  ## create list to store memory size\n",
    "max_value = sorted(cr_list)[-1]\n",
    "\n",
    "print(\"create list to store memory size\")\n",
    "print(cr_list)\n",
    "\n",
    "### Q3. (c) Find data type with the least memory\n",
    "\n",
    "print(\"Find data type with the least memory\")\n",
    "if(int_bytes == max_value):\n",
    "    print(f\"Variable with the least memory size is var_int = {int_bytes} bytes \")\n",
    "    \n",
    "elif(float_bytes== max_value):\n",
    "    print(f\"Variable with the least memory size is var_float = {float_bytes} bytes \")\n",
    "    \n",
    "elif(str_bytes == max_value):\n",
    "    print(f\"Variable with the least memory size is var_str = {str_bytes} bytes \")\n",
    "    \n",
    "elif(list_bytes == max_value):\n",
    "    print(f\"Variable with the least memory size is Var_list = {list_bytes} bytes \")\n",
    "    \n",
    "elif(bool_bytes == max_value):\n",
    "    print(f\"Variable with the least memory size is bool_int = {bool_bytes} bytes \")\n",
    "    \n",
    "elif(tuple_bytes == max_value):\n",
    "    print(f\"Variable with the least memory size is tuple_int = {tuple_bytes} bytes \")\n",
    "    \n",
    "else:\n",
    "    print(\"nothing\")\n",
    "    "
   ]
  },
  {
   "cell_type": "markdown",
   "id": "6f244985-869f-4a9f-81b5-1094e6dc2e09",
   "metadata": {},
   "source": [
    "### Q4. Write a Python program that asks the user to enter an email address. The program should check if the email contains the characters @ and \".\" (ignoring case). If either character is present, print \"Email format is valid.\" Otherwise, print \"Invalid email format.\"\n"
   ]
  },
  {
   "cell_type": "code",
   "execution_count": 38,
   "id": "29095872-94c7-4e8b-9209-c51d6d707b40",
   "metadata": {},
   "outputs": [
    {
     "name": "stdin",
     "output_type": "stream",
     "text": [
      "Please enter your email address:  Hammadsiddiqe2@GMAIL.COM\n"
     ]
    },
    {
     "name": "stdout",
     "output_type": "stream",
     "text": [
      "Email format is valid.\n"
     ]
    }
   ],
   "source": [
    "user_email = input(\"Please enter your email address: \").lower()\n",
    "\n",
    "if(\"@\" in user_email and \".\" in user_email):\n",
    "    print(\"Email format is valid.\")\n",
    "\n",
    "else:\n",
    "    print(\"Invalid email format.\")"
   ]
  },
  {
   "cell_type": "markdown",
   "id": "e7e819b6-40b7-4d02-9688-8212cf4d2bf1",
   "metadata": {},
   "source": [
    "### Q5. Write a python program to know data type of each element stored in a tuple, append the data types in a list. Show final output in a list as data types of tuple elements\n",
    "#### x = (11,22.333,'apple',[1,2,3],('a','b'))\n"
   ]
  },
  {
   "cell_type": "code",
   "execution_count": 46,
   "id": "3418e11c-4193-4b29-93be-1c3b328601a7",
   "metadata": {},
   "outputs": [
    {
     "name": "stdout",
     "output_type": "stream",
     "text": [
      "Data types of tuple elements: [<class 'int'>, <class 'float'>, <class 'str'>, <class 'list'>, <class 'tuple'>]\n"
     ]
    }
   ],
   "source": [
    "x = (11, 22.333, 'apple', [1, 2, 3], ('a', 'b'))\n",
    "\n",
    "data_types = [type(x[0]),type(x[1]),type(x[2]),type(x[3]),type(x[4])]\n",
    "\n",
    "# Print the DATA TYPE  of list values\n",
    "print(\"Data types of tuple elements:\", data_types)"
   ]
  },
  {
   "cell_type": "markdown",
   "id": "33b956b9-0680-41c7-8562-f08e1095dd25",
   "metadata": {},
   "source": [
    "#### Q6. Write a Python program that:\n",
    "#### Checks if a given username exists in a list of active users.\n",
    "#### Verifies if the user is the admin using identity operators.\n",
    "#### Hints:\n",
    "#### Use a list of tuples where each tuple contains a username and role [(\"alice\", \"admin\"),(\"bob\", \"user\"),(\"charlie\", \"moderator\")]\n",
    "##### Use the in operator to check if the username exists in the list.\n",
    "##### Use the is operator to check if the user is the admin (admin is a specific reference, e.g., (\"alice\", \"admin\"))."
   ]
  },
  {
   "cell_type": "code",
   "execution_count": 70,
   "id": "77c216ea-6864-420e-8952-d12b09c2cd98",
   "metadata": {},
   "outputs": [
    {
     "name": "stdin",
     "output_type": "stream",
     "text": [
      "Enter User Name alice\n"
     ]
    },
    {
     "name": "stdout",
     "output_type": "stream",
     "text": [
      "The user 'alice' exists in the active users list.\n",
      "The user 'alice' is not the admin.\n"
     ]
    }
   ],
   "source": [
    "users = [(\"alice\", \"admin\"),(\"bob\", \"user\"),(\"charlie\", \"moderator\")]\n",
    "admin_user = (\"alice\", \"admin\")\n",
    "user_input =input(\"Enter User Name\")\n",
    "user_exists = (user_input, \"admin\") \n",
    "\n",
    "if user_exists in users:\n",
    "    if (user[0]) is admin_user:  # Identity check for the admin\n",
    "            print(f\"The user '{username}' exists in the active users list.\")\n",
    "            print(f\"The user '{username}' is the admin.\")\n",
    "    else:\n",
    "            print(f\"The user '{username}' exists in the active users list.\")\n",
    "            print(f\"The user '{username}' is not the admin.\")\n",
    "\n",
    "else:\n",
    "    print(\"User not exists\")\n",
    "\n",
    "\n"
   ]
  },
  {
   "cell_type": "markdown",
   "id": "4989cba1-e4ea-4cfd-809d-f5b03116fced",
   "metadata": {},
   "source": [
    "##### Q7. person1 has same family as of person2, write a program to print relation between person1 and person2, if their data is ['father name','mother name','district','family number'] same (Print relation 'Siblings') also check person1 data with person3 which is cousin of person1 (Print relation 'Cousin')\n",
    "##### Hint:\n",
    "##### Use identity operator\n",
    "  "
   ]
  },
  {
   "cell_type": "code",
   "execution_count": 57,
   "id": "ec26dac3-b257-4f2c-965f-cfeb9ad3bedd",
   "metadata": {},
   "outputs": [
    {
     "name": "stdout",
     "output_type": "stream",
     "text": [
      "Siblings\n",
      "Cousin\n"
     ]
    }
   ],
   "source": [
    "person1 = ['asghar','bilquees','west','4']\n",
    "person2 = ['asghar','bilquees','west','4']\n",
    "person3 = ['ahmed','amber','west','4']\n",
    "if person1 is person2:\n",
    "    print(\"Siblings\")\n",
    "elif person1[0] is person2[0] and person1[1] is person2[1] and person1[2] is person2[2] and person1[3] is person2[3]:\n",
    "    print(\"Siblings\") \n",
    "else:\n",
    "    print(\"Not Siblings\")\n",
    "\n",
    "\n",
    "if person1[0] is not person3[0] or person1[1] is not person3[1] or person1[2] is not person3[2] or person1[3] is not person3[3]:\n",
    "    print(\"Cousin\") \n",
    "else:\n",
    "    print(\"Not Cousin\")"
   ]
  },
  {
   "cell_type": "markdown",
   "id": "e960dfec-f26e-4e75-b522-ee1abadd8e2c",
   "metadata": {},
   "source": [
    "### Q8. Write a Python program to store and display a book's title, author, year of publication, and price using a tuple.\n",
    "\n",
    "##### Instructions:\n",
    "##### Create a tuple to store the book details.\n",
    "##### Ask the user for the book's title, author, year, and price.\n",
    "##### Display the stored book information.\n"
   ]
  },
  {
   "cell_type": "code",
   "execution_count": 59,
   "id": "777da08a-189c-4f41-ba62-5e9c9f2974ae",
   "metadata": {},
   "outputs": [
    {
     "name": "stdin",
     "output_type": "stream",
     "text": [
      "Enter the book's title:  Python Programming\n",
      "Enter the author's name:  hammad\n",
      "Enter the year of publication:  2024\n",
      "Enter the price of the book:  55$\n"
     ]
    },
    {
     "name": "stdout",
     "output_type": "stream",
     "text": [
      "Stored Book Information:\n",
      "Title: Python Programming\n",
      "Author: hammad\n",
      "Year of Publication: 2024\n",
      "Price: 55$\n"
     ]
    }
   ],
   "source": [
    "title = input(\"Enter the book's title: \")\n",
    "author = input(\"Enter the author's name: \")\n",
    "year = input(\"Enter the year of publication: \")\n",
    "price = input(\"Enter the price of the book: \")\n",
    "\n",
    "\n",
    "book_details = (title, author, year, price) # details in a tuple\n",
    "\n",
    "# stored book information\n",
    "print(\"Stored Book Information:\")\n",
    "print(f\"Title: {book_details[0]}\")\n",
    "print(f\"Author: {book_details[1]}\")\n",
    "print(f\"Year of Publication: {book_details[2]}\")\n",
    "print(f\"Price: {book_details[3]}\")\n"
   ]
  },
  {
   "cell_type": "markdown",
   "id": "deb3e669-f3aa-42b9-b4c9-15e66bdd2720",
   "metadata": {},
   "source": [
    "#### Q9. Write a program to check if a user’s chosen subject is available in the list of offered subjects.\n",
    "##### Instructions:\n",
    "##### Given a list of subjects, ask the user to input a subject.\n",
    "##### Display whether the subject is available or not."
   ]
  },
  {
   "cell_type": "code",
   "execution_count": 63,
   "id": "6c413de4-422a-4603-86cc-c141517d7611",
   "metadata": {},
   "outputs": [
    {
     "name": "stdin",
     "output_type": "stream",
     "text": [
      "Enter the subject you want to check:  EnGlish\n"
     ]
    },
    {
     "name": "stdout",
     "output_type": "stream",
     "text": [
      "The subject 'English' is available.\n"
     ]
    }
   ],
   "source": [
    "avl_subjects = ['Mathematics', 'Physics', 'Chemistry', 'Biology', 'Computer Science', 'English']\n",
    "\n",
    "inp_subject = input(\"Enter the subject you want to check: \").title()\n",
    "\n",
    "if inp_subject in avl_subjects:\n",
    "    print(f\"The subject '{inp_subject}' is available.\")\n",
    "else:\n",
    "    print(f\"The subject '{inp_subject}' is not available.\")\n"
   ]
  },
  {
   "cell_type": "markdown",
   "id": "2647c670-062b-40ee-8471-79825c374d4b",
   "metadata": {},
   "source": [
    "##### Q10. Write a Python program that performs the following tasks using tuple methods\n",
    "###### Create a tuple with multiple integer values, including duplicates.\n",
    "###### Prompt the user to input a number and find the index of its first occurrence in the tuple.\n",
    "###### Ask the user for another number and count how many times it appears in the tuple.\n",
    "###### Display appropriate messages based on the results\n"
   ]
  },
  {
   "cell_type": "code",
   "execution_count": 67,
   "id": "3535f687-0ace-4ca9-92b2-edce7122cd4c",
   "metadata": {},
   "outputs": [
    {
     "name": "stdin",
     "output_type": "stream",
     "text": [
      "Enter a number to find its first occurrence index:  2\n"
     ]
    },
    {
     "name": "stdout",
     "output_type": "stream",
     "text": [
      "The number 2 is not in the tuple.\n"
     ]
    },
    {
     "name": "stdin",
     "output_type": "stream",
     "text": [
      "Enter another number to count its occurrences:  2\n"
     ]
    },
    {
     "name": "stdout",
     "output_type": "stream",
     "text": [
      "The number 2 is not in the tuple.\n"
     ]
    }
   ],
   "source": [
    "numbers_tuple = (3, 5, 7, 9, 3, 6, 7, 5, 8, 3)\n",
    "\n",
    "number1 = int(input(\"Enter a number to find its first occurrence index: \"))\n",
    "\n",
    "\n",
    "if number1 in numbers_tuple:\n",
    "    index = numbers_tuple.index(number1)\n",
    "    print(f\"The first occurrence of {number1} is at index {index}.\")\n",
    "else:\n",
    "    print(f\"The number {number1} is not in the tuple.\")\n",
    "\n",
    "number2 = int(input(\"Enter another number to count its occurrences: \"))\n",
    "\n",
    "count = numbers_tuple.count(number2)\n",
    "\n",
    "if count > 0:\n",
    "    print(f\"The number {number2} appears {count} times in the tuple.\")\n",
    "else:\n",
    "    print(f\"The number {number2} is not in the tuple.\")\n"
   ]
  },
  {
   "cell_type": "code",
   "execution_count": null,
   "id": "b488b39d-14a7-45bd-8e3d-6cf769cde088",
   "metadata": {},
   "outputs": [],
   "source": []
  }
 ],
 "metadata": {
  "kernelspec": {
   "display_name": "Python 3 (ipykernel)",
   "language": "python",
   "name": "python3"
  },
  "language_info": {
   "codemirror_mode": {
    "name": "ipython",
    "version": 3
   },
   "file_extension": ".py",
   "mimetype": "text/x-python",
   "name": "python",
   "nbconvert_exporter": "python",
   "pygments_lexer": "ipython3",
   "version": "3.12.7"
  }
 },
 "nbformat": 4,
 "nbformat_minor": 5
}
